{
 "cells": [
  {
   "cell_type": "markdown",
   "metadata": {},
   "source": [
    "# Solving (Mixed) Integer Linear Programming Models\n"]
  },
  {
   "cell_type": "code",
   "execution_count": null,
   "metadata": {},
   "outputs": [
    {
     "ename": "",
     "evalue": "",
     "output_type": "error",
     "traceback": [
      "\u001b[1;31m'Python 3.8.2 64-bit' ile hücreleri çalıştırmak için ipykernel paketi gerekir.\n",
      "\u001b[1;31mPython ortamına 'ipykernel' yüklemek için aşağıdaki komutu çalıştırın. \n",
      "\u001b[1;31mKomut: '/usr/bin/python3 -m pip install ipykernel -U --user --force-reinstall'"
     ]
    }
   ],
   "source": [
    "# load libraries\n",
    "import numpy as np\n",
    "import scipy.sparse as sp\n",
    "\n",
    "import cplex as cp"
   ]
  },
  {
   "cell_type": "code",
   "execution_count": null,
   "metadata": {},
   "outputs": [
    {
     "ename": "",
     "evalue": "",
     "output_type": "error",
     "traceback": [
      "\u001b[1;31m'Python 3.8.2 64-bit' ile hücreleri çalıştırmak için ipykernel paketi gerekir.\n",
      "\u001b[1;31mPython ortamına 'ipykernel' yüklemek için aşağıdaki komutu çalıştırın. \n",
      "\u001b[1;31mKomut: '/usr/bin/python3 -m pip install ipykernel -U --user --force-reinstall'"
     ]
    }
   ],
   "source": [
    "def mixed_integer_linear_programming(direction, A, senses, b, c, l, u, types):\n",
    "    # create an empty optimization problem\n",
    "    prob = cp.Cplex()\n",
    "\n",
    "    # add decision variables to the problem including their coefficients in objective and ranges\n",
    "    prob.variables.add(obj = c.tolist(), lb = l.tolist(), ub = u.tolist(), types = types.tolist())\n",
    "\n",
    "    # define problem type\n",
    "    if direction == \"maximize\":\n",
    "        prob.objective.set_sense(prob.objective.sense.maximize)\n",
    "    else:\n",
    "        prob.objective.set_sense(prob.objective.sense.minimize)\n",
    "\n",
    "    # add constraints to the problem including their directions and right-hand side values\n",
    "    prob.linear_constraints.add(senses = senses.tolist(), rhs = b.tolist())\n",
    "\n",
    "    # add coefficients for each constraint\n",
    "    row_indices, col_indices = A.nonzero()\n",
    "    prob.linear_constraints.set_coefficients(zip(row_indices.tolist(), col_indices.tolist(), A.data.tolist()))\n",
    "\n",
    "    # solve the problem\n",
    "    print(prob.write_as_string())\n",
    "    prob.solve()\n",
    "\n",
    "    # check the solution status\n",
    "    print(prob.solution.get_status())\n",
    "    print(prob.solution.status[prob.solution.get_status()])\n",
    "\n",
    "    # get the solution\n",
    "    x_star = prob.solution.get_values()\n",
    "    obj_star = prob.solution.get_objective_value()\n",
    "\n",
    "    return(x_star, obj_star)"
   ]
  },
  {
   "cell_type": "markdown",
   "metadata": {},
   "source": [
    "## The assignment problem\n",
    "Suppose, for example, than $N$ people are to be assigned to $N$ jobs and that $c_{ij}$ measures the performance of person $i$ in job $j$. If we let\n",
    "\n",
    "\\begin{align*}\n",
    "x_{ij} = \\begin{cases} 1 & \\textrm{if person $i$ is assigned to job $j$}\\\\\n",
    "0 & \\textrm{otherwise,}\\end{cases}\n",
    "\\end{align*}\n",
    "\n",
    "we can find the optimal assignment by solving the optimization problem:\n",
    "\n",
    "\\begin{align*}\n",
    "\\mbox{maximize} \\;\\;& \\sum\\limits_{i = 1}^{N} \\sum\\limits_{j = 1}^{N} c_{ij} x_{ij} \\\\\n",
    "\\mbox{subject to:} \\;\\;& \\sum\\limits_{j = 1}^{N} x_{ij} = 1 \\;\\;\\;\\; i = 1, 2, \\dots, N\\\\\n",
    "\\;\\;& \\sum\\limits_{i = 1}^{N} x_{ij} = 1 \\;\\;\\;\\; j = 1, 2, \\dots, N\\\\\n",
    "\\;\\;& x_{ij} \\in \\{0, 1\\} \\;\\;\\;\\; i = 1, 2, \\dots, N; j = 1, 2, \\dots, N\n",
    "\\end{align*}\n",
    "\n",
    "The first set of constraints shows that each person is to be assigned to exactly one job and the second set of constraints indicates that each job is to be performed by one person.\n",
    "\n",
    "\\begin{align*}\n",
    "\\mbox{maximize} \\;\\;& c_{11}x_{11} + c_{12}x_{12} + c_{13}x_{13} + c_{21}x_{21} + c_{22}x_{22} + c_{23}x_{23} + c_{31}x_{31} + c_{32}x_{32} + c_{33}x_{33} \\\\\n",
    "\\mbox{subject to:} \\;\\;& + x_{11} + x_{12} + x_{13} \\phantom{ + x_{21} + x_{22} + x_{23} + x_{31} + x_{32} + x_{33}\\:\\:} = 1\\\\\n",
    "\\;\\;& \\phantom{+ x_{11} + x_{12} + x_{13}\\:\\:} + x_{21} + x_{22} + x_{23} \\phantom{+ x_{31} + x_{32} + x_{33}\\:\\:} = 1\\\\\n",
    "\\;\\;& \\phantom{+ x_{11} + x_{12} + x_{13} + x_{21} + x_{22} + x_{23}\\:\\:} + x_{31} + x_{32} + x_{33} = 1\\\\\n",
    "\\;\\;& + x_{11} \\phantom{+ x_{12} + x_{13}\\:\\:} + x_{21} \\phantom{+ x_{22} + x_{23}\\:\\:} + x_{31} \\phantom{+ x_{32} + x_{33}\\:\\:} = 1\\\\\n",
    "\\;\\;& \\phantom{+ x_{11}\\:\\:} + x_{12} \\phantom{+ x_{13} + x_{21}\\:\\:} + x_{22} \\phantom{+ x_{23} + x_{31}\\:\\:} + x_{32} \\phantom{+ x_{33}\\:\\:} = 1\\\\\n",
    "\\;\\;& \\phantom{+ x_{11} + x_{12}\\:\\:} + x_{13} \\phantom{+ x_{21} + x_{22}\\:\\:} + x_{23} \\phantom{+ x_{31} + x_{32}\\:\\:} + x_{33} = 1\\\\\n",
    "\\;\\;& x_{11} \\in \\{0, 1\\}\\\\\n",
    "\\;\\;& x_{12} \\in \\{0, 1\\}\\\\\n",
    "\\;\\;& x_{13} \\in \\{0, 1\\}\\\\\n",
    "\\;\\;& x_{21} \\in \\{0, 1\\}\\\\\n",
    "\\;\\;& x_{22} \\in \\{0, 1\\}\\\\\n",
    "\\;\\;& x_{23} \\in \\{0, 1\\}\\\\\n",
    "\\;\\;& x_{31} \\in \\{0, 1\\}\\\\\n",
    "\\;\\;& x_{32} \\in \\{0, 1\\}\\\\\n",
    "\\;\\;& x_{33} \\in \\{0, 1\\}\n",
    "\\end{align*}"
   ]
  },
  {
   "cell_type": "code",
   "execution_count": null,
   "metadata": {},
   "outputs": [
    {
     "ename": "",
     "evalue": "",
     "output_type": "error",
     "traceback": [
      "\u001b[1;31m'Python 3.8.2 64-bit' ile hücreleri çalıştırmak için ipykernel paketi gerekir.\n",
      "\u001b[1;31mPython ortamına 'ipykernel' yüklemek için aşağıdaki komutu çalıştırın. \n",
      "\u001b[1;31mKomut: '/usr/bin/python3 -m pip install ipykernel -U --user --force-reinstall'"
     ]
    }
   ],
   "source": [
    "names = np.array([\"x_1_1\", \"x_1_2\", \"x_1_3\", \"x_2_1\", \"x_2_2\", \"x_2_3\", \"x_3_1\", \"x_3_2\", \"x_3_3\"])\n",
    "c = np.array([27, 55, 90, 13, 48, 39, 92, 41, 61])\n",
    "senses = np.repeat(\"E\", 6)\n",
    "b = np.repeat(1, 6)\n",
    "l = np.repeat(0, 9)\n",
    "u = np.repeat(1, 9)\n",
    "types = np.repeat(\"B\", 9)\n",
    "\n",
    "A = np.zeros((6, 9))\n",
    "# person 1\n",
    "A[0, 0] = 1\n",
    "A[0, 1] = 1\n",
    "A[0, 2] = 1\n",
    "# person 2\n",
    "A[1, 3] = 1\n",
    "A[1, 4] = 1\n",
    "A[1, 5] = 1\n",
    "# person 3\n",
    "A[2, 6] = 1\n",
    "A[2, 7] = 1\n",
    "A[2, 8] = 1\n",
    "# job 1\n",
    "A[3, 0] = 1\n",
    "A[3, 3] = 1\n",
    "A[3, 6] = 1\n",
    "# job 2\n",
    "A[4, 1] = 1\n",
    "A[4, 4] = 1\n",
    "A[4, 7] = 1\n",
    "# job 3\n",
    "A[5, 2] = 1\n",
    "A[5, 5] = 1\n",
    "A[5, 8] = 1\n",
    "\n",
    "print(A)\n",
    "A = sp.csr_matrix(A)\n",
    "\n",
    "import matplotlib.pyplot as plt\n",
    "plt.figure(figsize = (6, 9))\n",
    "plt.spy(A, marker = \"o\")\n",
    "plt.show()"
   ]
  },
  {
   "cell_type": "code",
   "execution_count": null,
   "metadata": {},
   "outputs": [
    {
     "ename": "",
     "evalue": "",
     "output_type": "error",
     "traceback": [
      "\u001b[1;31m'Python 3.8.2 64-bit' ile hücreleri çalıştırmak için ipykernel paketi gerekir.\n",
      "\u001b[1;31mPython ortamına 'ipykernel' yüklemek için aşağıdaki komutu çalıştırın. \n",
      "\u001b[1;31mKomut: '/usr/bin/python3 -m pip install ipykernel -U --user --force-reinstall'"
     ]
    }
   ],
   "source": [
    "x_star, obj_star = mixed_integer_linear_programming(\"maximize\", A, senses, b, c, l, u, types)\n",
    "print(names)\n",
    "print(x_star)\n",
    "print(obj_star)\n",
    "\n",
    "print(np.array(x_star).reshape((3, 3)))"
   ]
  },
  {
   "cell_type": "code",
   "execution_count": null,
   "metadata": {},
   "outputs": [
    {
     "ename": "",
     "evalue": "",
     "output_type": "error",
     "traceback": [
      "\u001b[1;31m'Python 3.8.2 64-bit' ile hücreleri çalıştırmak için ipykernel paketi gerekir.\n",
      "\u001b[1;31mPython ortamına 'ipykernel' yüklemek için aşağıdaki komutu çalıştırın. \n",
      "\u001b[1;31mKomut: '/usr/bin/python3 -m pip install ipykernel -U --user --force-reinstall'"
     ]
    }
   ],
   "source": [
    "def assignment_problem(filename):\n",
    "    # read problem instance from file\n",
    "    problem = np.loadtxt(filename)\n",
    "\n",
    "    N = np.sqrt(problem.shape[0]).astype(int)\n",
    "\n",
    "    c = problem[:, 2]\n",
    "    senses = np.repeat(\"E\", 2 * N)\n",
    "    b = np.repeat(1, 2 * N)\n",
    "    l = np.repeat(0, N * N)\n",
    "    u = np.repeat(1, N * N)\n",
    "    types = np.repeat(\"B\", N * N)\n",
    "\n",
    "    aij = np.repeat(1.0, 2 * N * N)\n",
    "    row = np.repeat(range(2 * N), N)\n",
    "    col = np.concatenate((range(N * N), \n",
    "                          np.array(range(N * N)).reshape(N, N).T.flatten()))\n",
    "    A = sp.csr_matrix((aij, (row, col)), shape = (2 * N, N * N))\n",
    "\n",
    "    x_star, obj_star = mixed_integer_linear_programming(\"maximize\", A, senses, b, c, l, u, types)\n",
    "    return(x_star, obj_star)"
   ]
  },
  {
   "cell_type": "code",
   "execution_count": null,
   "metadata": {},
   "outputs": [
    {
     "ename": "",
     "evalue": "",
     "output_type": "error",
     "traceback": [
      "\u001b[1;31m'Python 3.8.2 64-bit' ile hücreleri çalıştırmak için ipykernel paketi gerekir.\n",
      "\u001b[1;31mPython ortamına 'ipykernel' yüklemek için aşağıdaki komutu çalıştırın. \n",
      "\u001b[1;31mKomut: '/usr/bin/python3 -m pip install ipykernel -U --user --force-reinstall'"
     ]
    }
   ],
   "source": [
    "x_star, obj_star = assignment_problem(\"assignment_problem1.txt\")\n",
    "print(x_star)\n",
    "print(obj_star)\n",
    "\n",
    "print(np.array(x_star).reshape((3, 3)))"
   ]
  },
  {
   "cell_type": "code",
   "execution_count": null,
   "metadata": {
    "scrolled": false
   },
   "outputs": [
    {
     "ename": "",
     "evalue": "",
     "output_type": "error",
     "traceback": [
      "\u001b[1;31m'Python 3.8.2 64-bit' ile hücreleri çalıştırmak için ipykernel paketi gerekir.\n",
      "\u001b[1;31mPython ortamına 'ipykernel' yüklemek için aşağıdaki komutu çalıştırın. \n",
      "\u001b[1;31mKomut: '/usr/bin/python3 -m pip install ipykernel -U --user --force-reinstall'"
     ]
    }
   ],
   "source": [
    "N = 10\n",
    "C = np.random.randint(10, 100, (N, N))\n",
    "\n",
    "row_indices, col_indices = C.nonzero()\n",
    "\n",
    "problem = np.vstack((row_indices + 1, col_indices + 1, C.reshape(1, N * N))).T\n",
    "np.savetxt(\"assignment_problem2.txt\", problem, fmt = \"%d\")\n",
    "\n",
    "x_star, obj_star = assignment_problem(\"assignment_problem2.txt\")\n",
    "print(x_star)\n",
    "print(obj_star)\n",
    "print(np.array(x_star).reshape((N, N)))"
   ]
  }
 ],
 "metadata": {
  "kernelspec": {
   "display_name": "Python 3.8.2 64-bit",
   "language": "python",
   "name": "python3"
  },
  "language_info": {
   "codemirror_mode": {
    "name": "ipython",
    "version": 3
   },
   "file_extension": ".py",
   "mimetype": "text/x-python",
   "name": "python",
   "nbconvert_exporter": "python",
   "pygments_lexer": "ipython3",
   "version": "3.8.2"
  },
  "vscode": {
   "interpreter": {
    "hash": "31f2aee4e71d21fbe5cf8b01ff0e069b9275f58929596ceb00d14d90e3e16cd6"
   }
  }
 },
 "nbformat": 4,
 "nbformat_minor": 4
}
